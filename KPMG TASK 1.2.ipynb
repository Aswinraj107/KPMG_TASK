{
  "nbformat": 4,
  "nbformat_minor": 0,
  "metadata": {
    "colab": {
      "provenance": []
    },
    "kernelspec": {
      "name": "python3",
      "display_name": "Python 3"
    },
    "language_info": {
      "name": "python"
    }
  },
  "cells": [
    {
      "cell_type": "markdown",
      "source": [
        "# NAME - ASWIN RAJ\n",
        "#EMAIL - aswinraj302002@gmail.com"
      ],
      "metadata": {
        "id": "SFQEnmWqnEzo"
      }
    },
    {
      "cell_type": "markdown",
      "source": [
        "# TASK 1.2"
      ],
      "metadata": {
        "id": "Gq0fw5BHnL53"
      }
    },
    {
      "cell_type": "markdown",
      "source": [
        "**Import libraries:**"
      ],
      "metadata": {
        "id": "4Ekkcn1QnUbQ"
      }
    },
    {
      "cell_type": "code",
      "execution_count": 1,
      "metadata": {
        "id": "wz0BTRCfmmYb"
      },
      "outputs": [],
      "source": [
        "import pandas as pd\n"
      ]
    },
    {
      "cell_type": "markdown",
      "source": [
        "**Read the CSV file into a DataFrame:**"
      ],
      "metadata": {
        "id": "AcDodcUSnaaB"
      }
    },
    {
      "cell_type": "code",
      "source": [
        "df_transactions = pd.read_csv('Transactions.csv')\n"
      ],
      "metadata": {
        "id": "Vcn89N4xnamC"
      },
      "execution_count": 2,
      "outputs": []
    },
    {
      "cell_type": "markdown",
      "source": [
        "**Check the first few rows of the DataFrame to get an overview:**"
      ],
      "metadata": {
        "id": "06pOEhTKnawg"
      }
    },
    {
      "cell_type": "code",
      "source": [
        "df_transactions = df_transactions.iloc[:, :13] \n",
        "print(df_transactions.head())\n"
      ],
      "metadata": {
        "colab": {
          "base_uri": "https://localhost:8080/"
        },
        "id": "_LSEECHJna3S",
        "outputId": "7f4782a5-55c3-453b-c85e-86b0ab488117"
      },
      "execution_count": 6,
      "outputs": [
        {
          "output_type": "stream",
          "name": "stdout",
          "text": [
            "   transaction_id  product_id  customer_id transaction_date online_order  \\\n",
            "0               1           2         2950         25-02-17        False   \n",
            "1               2           3         3120         21-05-17         True   \n",
            "2               3          37          402         16-10-17        False   \n",
            "3               4          88         3135         31-08-17        False   \n",
            "4               5          78          787         01-10-17         True   \n",
            "\n",
            "  order_status           brand product_line product_class product_size  \\\n",
            "0     Approved           Solex     Standard        medium       medium   \n",
            "1     Approved   Trek Bicycles     Standard        medium        large   \n",
            "2     Approved      OHM Cycles     Standard           low       medium   \n",
            "3     Approved  Norco Bicycles     Standard        medium       medium   \n",
            "4     Approved  Giant Bicycles     Standard        medium        large   \n",
            "\n",
            "   list_price standard_cost  product_first_sold_date  \n",
            "0       71.49        $53.62                  41245.0  \n",
            "1     2091.47       $388.92                  41701.0  \n",
            "2     1793.43       $248.82                  36361.0  \n",
            "3     1198.46       $381.10                  36145.0  \n",
            "4     1765.30       $709.48                  42226.0  \n"
          ]
        }
      ]
    },
    {
      "cell_type": "markdown",
      "source": [
        "**Perform accuracy checks for each column**"
      ],
      "metadata": {
        "id": "t-94h2Wnna84"
      }
    },
    {
      "cell_type": "code",
      "source": [
        "accuracy_check = df_transactions.apply(lambda x: pd.to_numeric(x, errors='coerce').notnull().all())\n",
        "print(\"Accuracy:\")\n",
        "print(accuracy_check)"
      ],
      "metadata": {
        "colab": {
          "base_uri": "https://localhost:8080/"
        },
        "id": "uKx2Te--nbCQ",
        "outputId": "308263c6-deb6-4297-a14a-d605b60c4644"
      },
      "execution_count": 8,
      "outputs": [
        {
          "output_type": "stream",
          "name": "stdout",
          "text": [
            "Accuracy:\n",
            "transaction_id              True\n",
            "product_id                  True\n",
            "customer_id                 True\n",
            "transaction_date           False\n",
            "online_order               False\n",
            "order_status               False\n",
            "brand                      False\n",
            "product_line               False\n",
            "product_class              False\n",
            "product_size               False\n",
            "list_price                  True\n",
            "standard_cost              False\n",
            "product_first_sold_date    False\n",
            "dtype: bool\n"
          ]
        }
      ]
    },
    {
      "cell_type": "markdown",
      "source": [
        "**Consistency**"
      ],
      "metadata": {
        "id": "4EQDB_pHnbH6"
      }
    },
    {
      "cell_type": "code",
      "source": [
        "duplicate_check = df_transactions.duplicated().any()\n",
        "print(\"Consistency - Duplicate Records:\")\n",
        "print(duplicate_check)"
      ],
      "metadata": {
        "colab": {
          "base_uri": "https://localhost:8080/"
        },
        "id": "lRsakwbznbMv",
        "outputId": "58ae652a-766f-46b0-acf4-91cb25d40bbc"
      },
      "execution_count": 9,
      "outputs": [
        {
          "output_type": "stream",
          "name": "stdout",
          "text": [
            "Consistency - Duplicate Records:\n",
            "False\n"
          ]
        }
      ]
    },
    {
      "cell_type": "markdown",
      "source": [
        "**Completeness**"
      ],
      "metadata": {
        "id": "VCUOjlepnbTU"
      }
    },
    {
      "cell_type": "code",
      "source": [
        "missing_values_check = df_transactions.isnull().any()\n",
        "print(\"Completeness - Missing Values:\")\n",
        "print(missing_values_check)"
      ],
      "metadata": {
        "colab": {
          "base_uri": "https://localhost:8080/"
        },
        "id": "QBwz8sTrnbZK",
        "outputId": "c98bc5d3-a383-402b-f049-2735a5e6d39c"
      },
      "execution_count": 10,
      "outputs": [
        {
          "output_type": "stream",
          "name": "stdout",
          "text": [
            "Completeness - Missing Values:\n",
            "transaction_id             False\n",
            "product_id                 False\n",
            "customer_id                False\n",
            "transaction_date           False\n",
            "online_order                True\n",
            "order_status               False\n",
            "brand                       True\n",
            "product_line                True\n",
            "product_class               True\n",
            "product_size                True\n",
            "list_price                 False\n",
            "standard_cost               True\n",
            "product_first_sold_date     True\n",
            "dtype: bool\n"
          ]
        }
      ]
    },
    {
      "cell_type": "markdown",
      "source": [
        "**Currency**"
      ],
      "metadata": {
        "id": "HVTHfqsQoh04"
      }
    },
    {
      "cell_type": "code",
      "source": [
        "currency_check = pd.to_datetime(df_transactions['transaction_date']).max()\n",
        "current_date = pd.to_datetime('today') \n",
        "is_current = currency_check >= current_date\n",
        "print(\"Currency:\")\n",
        "print(is_current)"
      ],
      "metadata": {
        "colab": {
          "base_uri": "https://localhost:8080/"
        },
        "id": "zgti6kY1oh-3",
        "outputId": "cee0f9c3-be91-45c4-a5d0-7ba2033bec74"
      },
      "execution_count": 12,
      "outputs": [
        {
          "output_type": "stream",
          "name": "stdout",
          "text": [
            "Currency:\n",
            "False\n"
          ]
        }
      ]
    },
    {
      "cell_type": "markdown",
      "source": [
        "**Relevancy check**"
      ],
      "metadata": {
        "id": "t49xO5bGoiGw"
      }
    },
    {
      "cell_type": "code",
      "source": [
        "relevancy = {\n",
        "    'transaction_id': list(df_transactions['transaction_id'].unique()),\n",
        "    'product_id': list(df_transactions['product_id'].unique()),\n",
        "    'customer_id': list(df_transactions['customer_id'].unique()),\n",
        "    'transaction_date': [],  \n",
        "    'online_order': [True, False],  \n",
        "    'order_status': [],  \n",
        "    'brand': list(df_transactions['brand'].unique()),\n",
        "    'product_line': [],  \n",
        "    'product_class': [],  \n",
        "    'product_size': [],  \n",
        "    'list_price': [],  \n",
        "    'standard_cost': [],  \n",
        "    'product_first_sold_date': []  \n",
        "}\n",
        "relevancy_check = df_transactions.apply(lambda x: x.isin(relevancy[x.name])).all()\n",
        "print(\"Relevancy:\")\n",
        "print(relevancy_check)\n"
      ],
      "metadata": {
        "colab": {
          "base_uri": "https://localhost:8080/"
        },
        "id": "5LXN3dz1oiMT",
        "outputId": "07e83e60-43c5-429d-9bb4-e82950aa74e4"
      },
      "execution_count": 13,
      "outputs": [
        {
          "output_type": "stream",
          "name": "stdout",
          "text": [
            "Relevancy:\n",
            "transaction_id              True\n",
            "product_id                  True\n",
            "customer_id                 True\n",
            "transaction_date           False\n",
            "online_order               False\n",
            "order_status               False\n",
            "brand                       True\n",
            "product_line               False\n",
            "product_class              False\n",
            "product_size               False\n",
            "list_price                 False\n",
            "standard_cost              False\n",
            "product_first_sold_date    False\n",
            "dtype: bool\n"
          ]
        }
      ]
    },
    {
      "cell_type": "markdown",
      "source": [
        "**Validity check**"
      ],
      "metadata": {
        "id": "tEqjKhQ4o8k4"
      }
    },
    {
      "cell_type": "code",
      "source": [
        "validity = {\n",
        "    'transaction_id': list(df_transactions['transaction_id'].unique()),\n",
        "    'product_id': list(df_transactions['product_id'].unique()),\n",
        "    'customer_id': list(df_transactions['customer_id'].unique()),\n",
        "    'transaction_date': [],  \n",
        "    'online_order': [True, False],  \n",
        "    'order_status': [],  \n",
        "    'brand': list(df_transactions['brand'].unique()),\n",
        "    'product_line': [],  \n",
        "    'product_class': [],  \n",
        "    'product_size': [],  \n",
        "    'list_price': [],  \n",
        "    'standard_cost': [],  \n",
        "    'product_first_sold_date': []\n",
        "}\n",
        "validity_check = df_transactions.drop('transaction_id', axis=1).apply(lambda x: pd.Series(x).isin(validity[x.name])).all()\n",
        "print(\"Validity:\")\n",
        "print(validity_check)\n"
      ],
      "metadata": {
        "colab": {
          "base_uri": "https://localhost:8080/"
        },
        "id": "1vrmfYcUo8q0",
        "outputId": "196fc0f3-d85e-42ef-9961-bd455c0aa4ac"
      },
      "execution_count": 14,
      "outputs": [
        {
          "output_type": "stream",
          "name": "stdout",
          "text": [
            "Validity:\n",
            "product_id                  True\n",
            "customer_id                 True\n",
            "transaction_date           False\n",
            "online_order               False\n",
            "order_status               False\n",
            "brand                       True\n",
            "product_line               False\n",
            "product_class              False\n",
            "product_size               False\n",
            "list_price                 False\n",
            "standard_cost              False\n",
            "product_first_sold_date    False\n",
            "dtype: bool\n"
          ]
        }
      ]
    },
    {
      "cell_type": "markdown",
      "source": [
        "**Uniqueness check**"
      ],
      "metadata": {
        "id": "cRU-uV5rpHXg"
      }
    },
    {
      "cell_type": "code",
      "source": [
        "uniqueness_check = df_transactions.duplicated().any()\n",
        "print(\"Uniqueness:\")\n",
        "print(not uniqueness_check)"
      ],
      "metadata": {
        "colab": {
          "base_uri": "https://localhost:8080/"
        },
        "id": "_utGbkQIpHf_",
        "outputId": "a4872682-691b-4cb7-f46e-5f7e19639f2a"
      },
      "execution_count": 15,
      "outputs": [
        {
          "output_type": "stream",
          "name": "stdout",
          "text": [
            "Uniqueness:\n",
            "True\n"
          ]
        }
      ]
    }
  ]
}