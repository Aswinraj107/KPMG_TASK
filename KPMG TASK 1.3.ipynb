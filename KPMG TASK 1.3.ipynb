{
  "nbformat": 4,
  "nbformat_minor": 0,
  "metadata": {
    "colab": {
      "provenance": []
    },
    "kernelspec": {
      "name": "python3",
      "display_name": "Python 3"
    },
    "language_info": {
      "name": "python"
    }
  },
  "cells": [
    {
      "cell_type": "markdown",
      "source": [
        "# NAME - ASWIN RAJ\n",
        "#EMAIL - aswinraj302002@gmail.com"
      ],
      "metadata": {
        "id": "TtXgBdoLszSI"
      }
    },
    {
      "cell_type": "markdown",
      "source": [
        "# KPMG TASK 1.3"
      ],
      "metadata": {
        "id": "s7dcbN-Ds8pn"
      }
    },
    {
      "cell_type": "markdown",
      "source": [
        "**IMPORT THE DATASET**"
      ],
      "metadata": {
        "id": "56rnAx06udE9"
      }
    },
    {
      "cell_type": "code",
      "execution_count": 1,
      "metadata": {
        "id": "sjCMvMFEqVEv"
      },
      "outputs": [],
      "source": [
        "import pandas as pd\n",
        "df = pd.read_csv('CustomerAddress.csv')"
      ]
    },
    {
      "cell_type": "code",
      "source": [
        "df = df.iloc[:, :6] "
      ],
      "metadata": {
        "id": "e0g3KbfzwOe2"
      },
      "execution_count": 4,
      "outputs": []
    },
    {
      "cell_type": "code",
      "source": [
        "df"
      ],
      "metadata": {
        "colab": {
          "base_uri": "https://localhost:8080/",
          "height": 423
        },
        "id": "9EhoVrO4wZXz",
        "outputId": "7f4b8efc-95a7-46c0-bc73-bdcd5ef2be07"
      },
      "execution_count": 5,
      "outputs": [
        {
          "output_type": "execute_result",
          "data": {
            "text/plain": [
              "      customer_id                    address  postcode            state  \\\n",
              "0               1         060 Morning Avenue      2016  New South Wales   \n",
              "1               2        6 Meadow Vale Court      2153  New South Wales   \n",
              "2               4         0 Holy Cross Court      4211              QLD   \n",
              "3               5        17979 Del Mar Point      2448  New South Wales   \n",
              "4               6           9 Oakridge Court      3216              VIC   \n",
              "...           ...                        ...       ...              ...   \n",
              "3994         3999            1482 Hauk Trail      3064              VIC   \n",
              "3995         4000  57042 Village Green Point      4511              QLD   \n",
              "3996         4001     87 Crescent Oaks Alley      2756              NSW   \n",
              "3997         4002           8194 Lien Street      4032              QLD   \n",
              "3998         4003            320 Acker Drive      2251              NSW   \n",
              "\n",
              "        country  property_valuation  \n",
              "0     Australia                  10  \n",
              "1     Australia                  10  \n",
              "2     Australia                   9  \n",
              "3     Australia                   4  \n",
              "4     Australia                   9  \n",
              "...         ...                 ...  \n",
              "3994  Australia                   3  \n",
              "3995  Australia                   6  \n",
              "3996  Australia                  10  \n",
              "3997  Australia                   7  \n",
              "3998  Australia                   7  \n",
              "\n",
              "[3999 rows x 6 columns]"
            ],
            "text/html": [
              "\n",
              "  <div id=\"df-10f6b571-75cd-4866-a613-ea09dd25a5e8\">\n",
              "    <div class=\"colab-df-container\">\n",
              "      <div>\n",
              "<style scoped>\n",
              "    .dataframe tbody tr th:only-of-type {\n",
              "        vertical-align: middle;\n",
              "    }\n",
              "\n",
              "    .dataframe tbody tr th {\n",
              "        vertical-align: top;\n",
              "    }\n",
              "\n",
              "    .dataframe thead th {\n",
              "        text-align: right;\n",
              "    }\n",
              "</style>\n",
              "<table border=\"1\" class=\"dataframe\">\n",
              "  <thead>\n",
              "    <tr style=\"text-align: right;\">\n",
              "      <th></th>\n",
              "      <th>customer_id</th>\n",
              "      <th>address</th>\n",
              "      <th>postcode</th>\n",
              "      <th>state</th>\n",
              "      <th>country</th>\n",
              "      <th>property_valuation</th>\n",
              "    </tr>\n",
              "  </thead>\n",
              "  <tbody>\n",
              "    <tr>\n",
              "      <th>0</th>\n",
              "      <td>1</td>\n",
              "      <td>060 Morning Avenue</td>\n",
              "      <td>2016</td>\n",
              "      <td>New South Wales</td>\n",
              "      <td>Australia</td>\n",
              "      <td>10</td>\n",
              "    </tr>\n",
              "    <tr>\n",
              "      <th>1</th>\n",
              "      <td>2</td>\n",
              "      <td>6 Meadow Vale Court</td>\n",
              "      <td>2153</td>\n",
              "      <td>New South Wales</td>\n",
              "      <td>Australia</td>\n",
              "      <td>10</td>\n",
              "    </tr>\n",
              "    <tr>\n",
              "      <th>2</th>\n",
              "      <td>4</td>\n",
              "      <td>0 Holy Cross Court</td>\n",
              "      <td>4211</td>\n",
              "      <td>QLD</td>\n",
              "      <td>Australia</td>\n",
              "      <td>9</td>\n",
              "    </tr>\n",
              "    <tr>\n",
              "      <th>3</th>\n",
              "      <td>5</td>\n",
              "      <td>17979 Del Mar Point</td>\n",
              "      <td>2448</td>\n",
              "      <td>New South Wales</td>\n",
              "      <td>Australia</td>\n",
              "      <td>4</td>\n",
              "    </tr>\n",
              "    <tr>\n",
              "      <th>4</th>\n",
              "      <td>6</td>\n",
              "      <td>9 Oakridge Court</td>\n",
              "      <td>3216</td>\n",
              "      <td>VIC</td>\n",
              "      <td>Australia</td>\n",
              "      <td>9</td>\n",
              "    </tr>\n",
              "    <tr>\n",
              "      <th>...</th>\n",
              "      <td>...</td>\n",
              "      <td>...</td>\n",
              "      <td>...</td>\n",
              "      <td>...</td>\n",
              "      <td>...</td>\n",
              "      <td>...</td>\n",
              "    </tr>\n",
              "    <tr>\n",
              "      <th>3994</th>\n",
              "      <td>3999</td>\n",
              "      <td>1482 Hauk Trail</td>\n",
              "      <td>3064</td>\n",
              "      <td>VIC</td>\n",
              "      <td>Australia</td>\n",
              "      <td>3</td>\n",
              "    </tr>\n",
              "    <tr>\n",
              "      <th>3995</th>\n",
              "      <td>4000</td>\n",
              "      <td>57042 Village Green Point</td>\n",
              "      <td>4511</td>\n",
              "      <td>QLD</td>\n",
              "      <td>Australia</td>\n",
              "      <td>6</td>\n",
              "    </tr>\n",
              "    <tr>\n",
              "      <th>3996</th>\n",
              "      <td>4001</td>\n",
              "      <td>87 Crescent Oaks Alley</td>\n",
              "      <td>2756</td>\n",
              "      <td>NSW</td>\n",
              "      <td>Australia</td>\n",
              "      <td>10</td>\n",
              "    </tr>\n",
              "    <tr>\n",
              "      <th>3997</th>\n",
              "      <td>4002</td>\n",
              "      <td>8194 Lien Street</td>\n",
              "      <td>4032</td>\n",
              "      <td>QLD</td>\n",
              "      <td>Australia</td>\n",
              "      <td>7</td>\n",
              "    </tr>\n",
              "    <tr>\n",
              "      <th>3998</th>\n",
              "      <td>4003</td>\n",
              "      <td>320 Acker Drive</td>\n",
              "      <td>2251</td>\n",
              "      <td>NSW</td>\n",
              "      <td>Australia</td>\n",
              "      <td>7</td>\n",
              "    </tr>\n",
              "  </tbody>\n",
              "</table>\n",
              "<p>3999 rows × 6 columns</p>\n",
              "</div>\n",
              "      <button class=\"colab-df-convert\" onclick=\"convertToInteractive('df-10f6b571-75cd-4866-a613-ea09dd25a5e8')\"\n",
              "              title=\"Convert this dataframe to an interactive table.\"\n",
              "              style=\"display:none;\">\n",
              "        \n",
              "  <svg xmlns=\"http://www.w3.org/2000/svg\" height=\"24px\"viewBox=\"0 0 24 24\"\n",
              "       width=\"24px\">\n",
              "    <path d=\"M0 0h24v24H0V0z\" fill=\"none\"/>\n",
              "    <path d=\"M18.56 5.44l.94 2.06.94-2.06 2.06-.94-2.06-.94-.94-2.06-.94 2.06-2.06.94zm-11 1L8.5 8.5l.94-2.06 2.06-.94-2.06-.94L8.5 2.5l-.94 2.06-2.06.94zm10 10l.94 2.06.94-2.06 2.06-.94-2.06-.94-.94-2.06-.94 2.06-2.06.94z\"/><path d=\"M17.41 7.96l-1.37-1.37c-.4-.4-.92-.59-1.43-.59-.52 0-1.04.2-1.43.59L10.3 9.45l-7.72 7.72c-.78.78-.78 2.05 0 2.83L4 21.41c.39.39.9.59 1.41.59.51 0 1.02-.2 1.41-.59l7.78-7.78 2.81-2.81c.8-.78.8-2.07 0-2.86zM5.41 20L4 18.59l7.72-7.72 1.47 1.35L5.41 20z\"/>\n",
              "  </svg>\n",
              "      </button>\n",
              "      \n",
              "  <style>\n",
              "    .colab-df-container {\n",
              "      display:flex;\n",
              "      flex-wrap:wrap;\n",
              "      gap: 12px;\n",
              "    }\n",
              "\n",
              "    .colab-df-convert {\n",
              "      background-color: #E8F0FE;\n",
              "      border: none;\n",
              "      border-radius: 50%;\n",
              "      cursor: pointer;\n",
              "      display: none;\n",
              "      fill: #1967D2;\n",
              "      height: 32px;\n",
              "      padding: 0 0 0 0;\n",
              "      width: 32px;\n",
              "    }\n",
              "\n",
              "    .colab-df-convert:hover {\n",
              "      background-color: #E2EBFA;\n",
              "      box-shadow: 0px 1px 2px rgba(60, 64, 67, 0.3), 0px 1px 3px 1px rgba(60, 64, 67, 0.15);\n",
              "      fill: #174EA6;\n",
              "    }\n",
              "\n",
              "    [theme=dark] .colab-df-convert {\n",
              "      background-color: #3B4455;\n",
              "      fill: #D2E3FC;\n",
              "    }\n",
              "\n",
              "    [theme=dark] .colab-df-convert:hover {\n",
              "      background-color: #434B5C;\n",
              "      box-shadow: 0px 1px 3px 1px rgba(0, 0, 0, 0.15);\n",
              "      filter: drop-shadow(0px 1px 2px rgba(0, 0, 0, 0.3));\n",
              "      fill: #FFFFFF;\n",
              "    }\n",
              "  </style>\n",
              "\n",
              "      <script>\n",
              "        const buttonEl =\n",
              "          document.querySelector('#df-10f6b571-75cd-4866-a613-ea09dd25a5e8 button.colab-df-convert');\n",
              "        buttonEl.style.display =\n",
              "          google.colab.kernel.accessAllowed ? 'block' : 'none';\n",
              "\n",
              "        async function convertToInteractive(key) {\n",
              "          const element = document.querySelector('#df-10f6b571-75cd-4866-a613-ea09dd25a5e8');\n",
              "          const dataTable =\n",
              "            await google.colab.kernel.invokeFunction('convertToInteractive',\n",
              "                                                     [key], {});\n",
              "          if (!dataTable) return;\n",
              "\n",
              "          const docLinkHtml = 'Like what you see? Visit the ' +\n",
              "            '<a target=\"_blank\" href=https://colab.research.google.com/notebooks/data_table.ipynb>data table notebook</a>'\n",
              "            + ' to learn more about interactive tables.';\n",
              "          element.innerHTML = '';\n",
              "          dataTable['output_type'] = 'display_data';\n",
              "          await google.colab.output.renderOutput(dataTable, element);\n",
              "          const docLink = document.createElement('div');\n",
              "          docLink.innerHTML = docLinkHtml;\n",
              "          element.appendChild(docLink);\n",
              "        }\n",
              "      </script>\n",
              "    </div>\n",
              "  </div>\n",
              "  "
            ]
          },
          "metadata": {},
          "execution_count": 5
        }
      ]
    },
    {
      "cell_type": "markdown",
      "source": [
        "**Accuracy**"
      ],
      "metadata": {
        "id": "jAtcTpcGwa-l"
      }
    },
    {
      "cell_type": "code",
      "source": [
        "accuracy_check = df.apply(lambda x: pd.to_numeric(x, errors='coerce').notnull().all())\n",
        "print(\"Accuracy:\")\n",
        "print(accuracy_check)"
      ],
      "metadata": {
        "colab": {
          "base_uri": "https://localhost:8080/"
        },
        "id": "0ML7CXWTwbhW",
        "outputId": "167f4de7-583f-43c7-b552-bf4a99ae6e47"
      },
      "execution_count": 6,
      "outputs": [
        {
          "output_type": "stream",
          "name": "stdout",
          "text": [
            "Accuracy:\n",
            "customer_id            True\n",
            "address               False\n",
            "postcode               True\n",
            "state                 False\n",
            "country               False\n",
            "property_valuation     True\n",
            "dtype: bool\n"
          ]
        }
      ]
    },
    {
      "cell_type": "markdown",
      "source": [
        "**Completeness:**"
      ],
      "metadata": {
        "id": "CAKLJJAnwbpN"
      }
    },
    {
      "cell_type": "code",
      "source": [
        "missing_values_check = df.isnull().any()\n",
        "print(\"Completeness - Missing Values:\")\n",
        "print(missing_values_check)"
      ],
      "metadata": {
        "colab": {
          "base_uri": "https://localhost:8080/"
        },
        "id": "gBQSQZgrwbxu",
        "outputId": "52360fc8-890d-428d-c7a9-d3e8e7723c09"
      },
      "execution_count": 7,
      "outputs": [
        {
          "output_type": "stream",
          "name": "stdout",
          "text": [
            "Completeness - Missing Values:\n",
            "customer_id           False\n",
            "address               False\n",
            "postcode              False\n",
            "state                 False\n",
            "country               False\n",
            "property_valuation    False\n",
            "dtype: bool\n"
          ]
        }
      ]
    },
    {
      "cell_type": "markdown",
      "source": [
        "**Consistency**"
      ],
      "metadata": {
        "id": "Mlfqh7qDwb49"
      }
    },
    {
      "cell_type": "code",
      "source": [
        "duplicate_check = df.duplicated().any()\n",
        "print(\"Consistency - Duplicate Records:\")\n",
        "print(duplicate_check)"
      ],
      "metadata": {
        "colab": {
          "base_uri": "https://localhost:8080/"
        },
        "id": "s6ptgFIQwb_N",
        "outputId": "1b61bea9-d3c4-49c1-df23-6da0c7fd4a64"
      },
      "execution_count": 8,
      "outputs": [
        {
          "output_type": "stream",
          "name": "stdout",
          "text": [
            "Consistency - Duplicate Records:\n",
            "False\n"
          ]
        }
      ]
    },
    {
      "cell_type": "markdown",
      "source": [
        "**Relevancy**"
      ],
      "metadata": {
        "id": "l_n1bbvgwcFP"
      }
    },
    {
      "cell_type": "code",
      "source": [
        "relevancy = {\n",
        "    'customer_id': list(df['customer_id'].unique()),  \n",
        "    'address': [],  \n",
        "    'postcode': [],  \n",
        "    'state': [], \n",
        "    'country': [],  \n",
        "    'property_valuation': [],  \n",
        "}\n",
        "relevancy_check = df.apply(lambda x: x.isin(relevancy[x.name])).all()\n",
        "print(\"Relevancy:\")\n",
        "print(relevancy_check)"
      ],
      "metadata": {
        "colab": {
          "base_uri": "https://localhost:8080/"
        },
        "id": "NvNeqSMdwcNG",
        "outputId": "e3973251-125e-4383-ee0a-8d12d9f19834"
      },
      "execution_count": 9,
      "outputs": [
        {
          "output_type": "stream",
          "name": "stdout",
          "text": [
            "Relevancy:\n",
            "customer_id            True\n",
            "address               False\n",
            "postcode              False\n",
            "state                 False\n",
            "country               False\n",
            "property_valuation    False\n",
            "dtype: bool\n"
          ]
        }
      ]
    },
    {
      "cell_type": "markdown",
      "source": [
        "**Validity**"
      ],
      "metadata": {
        "id": "lv9o9uCEwcTV"
      }
    },
    {
      "cell_type": "code",
      "source": [
        "validity = {\n",
        "    'customer_id': list(df['customer_id'].unique()), \n",
        "    'address': [],  \n",
        "    'postcode': [],  \n",
        "    'state': [],  \n",
        "    'country': [],  \n",
        "    'property_valuation': [], \n",
        "}\n",
        "\n",
        "validity_check = df.apply(lambda x: pd.Series(x).isin(validity[x.name])).all()\n",
        "print(\"Validity:\")\n",
        "print(validity_check)"
      ],
      "metadata": {
        "colab": {
          "base_uri": "https://localhost:8080/"
        },
        "id": "cSzXA7zWwcbH",
        "outputId": "4d6fca01-9012-42ff-e304-ce56044bb504"
      },
      "execution_count": 10,
      "outputs": [
        {
          "output_type": "stream",
          "name": "stdout",
          "text": [
            "Validity:\n",
            "customer_id            True\n",
            "address               False\n",
            "postcode              False\n",
            "state                 False\n",
            "country               False\n",
            "property_valuation    False\n",
            "dtype: bool\n"
          ]
        }
      ]
    },
    {
      "cell_type": "markdown",
      "source": [
        "**Uniqueness:**"
      ],
      "metadata": {
        "id": "7NxlF-b6wchn"
      }
    },
    {
      "cell_type": "code",
      "source": [
        "unique_check = df['customer_id'].nunique() == df.shape[0]\n",
        "print(\"Uniqueness - customer_id:\")\n",
        "print(unique_check)"
      ],
      "metadata": {
        "colab": {
          "base_uri": "https://localhost:8080/"
        },
        "id": "xI98ks3Bwco9",
        "outputId": "b4e7d2c2-7e46-498a-f6b6-cd92b9461ac5"
      },
      "execution_count": 11,
      "outputs": [
        {
          "output_type": "stream",
          "name": "stdout",
          "text": [
            "Uniqueness - customer_id:\n",
            "True\n"
          ]
        }
      ]
    }
  ]
}