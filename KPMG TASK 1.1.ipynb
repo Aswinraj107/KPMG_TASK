{
  "nbformat": 4,
  "nbformat_minor": 0,
  "metadata": {
    "colab": {
      "provenance": []
    },
    "kernelspec": {
      "name": "python3",
      "display_name": "Python 3"
    },
    "language_info": {
      "name": "python"
    }
  },
  "cells": [
    {
      "cell_type": "markdown",
      "source": [
        "#NAME - ASWIN RAJ\n",
        "#EMAIL - aswinraj302002@gmail.com\n"
      ],
      "metadata": {
        "id": "0GfZjYhAfdck"
      }
    },
    {
      "cell_type": "markdown",
      "source": [
        "# KPMG TASK 1"
      ],
      "metadata": {
        "id": "Jk89Q5bVfmQB"
      }
    },
    {
      "cell_type": "markdown",
      "source": [
        "**IMPORT THE DATASET**"
      ],
      "metadata": {
        "id": "fCaDzAS6kVyh"
      }
    },
    {
      "cell_type": "code",
      "execution_count": 7,
      "metadata": {
        "id": "Zc-sWUoqfcXd"
      },
      "outputs": [],
      "source": [
        "import pandas as pd\n",
        "import chardet\n",
        "with open('CustomerDemographic.csv', 'rb') as file:\n",
        "    result = chardet.detect(file.read())\n",
        "encoding = result['encoding']\n",
        "df = pd.read_csv('CustomerDemographic.csv', encoding=encoding)"
      ]
    },
    {
      "cell_type": "markdown",
      "source": [
        "**PRINT THE DATASET**"
      ],
      "metadata": {
        "id": "Z9oLY3gCkZw4"
      }
    },
    {
      "cell_type": "code",
      "source": [
        "df = df.iloc[:, :13]  \n",
        "print(df.head())\n"
      ],
      "metadata": {
        "colab": {
          "base_uri": "https://localhost:8080/"
        },
        "id": "vBB47nPFgj-j",
        "outputId": "347092d4-d0f6-4ae8-be37-c2f8e97e5878"
      },
      "execution_count": 11,
      "outputs": [
        {
          "output_type": "stream",
          "name": "stdout",
          "text": [
            "   customer_id first_name last_name  gender  \\\n",
            "0           34   Jephthah  Bachmann       U   \n",
            "1           66     Anselm     Gawne    Male   \n",
            "2         1888      Sibyl   Scholtz  Female   \n",
            "3         3435    Stevena   Allcock  Female   \n",
            "4         2858  Benedicto     Radki    Male   \n",
            "\n",
            "   past_3_years_bike_related_purchases         DOB           job_title  \\\n",
            "0                                   59  1843-12-21     Legal Assistant   \n",
            "1                                   46  2002-03-11   Account Executive   \n",
            "2                                   67  2002-01-26        Food Chemist   \n",
            "3                                   80  2002-01-15       Senior Editor   \n",
            "4                                    4  2002-01-09  Recruiting Manager   \n",
            "\n",
            "  job_industry_category     wealth_segment deceased_indicator  \\\n",
            "0                    IT  Affluent Customer                  N   \n",
            "1           Argiculture     High Net Worth                  N   \n",
            "2                Health      Mass Customer                  N   \n",
            "3                   NaN  Affluent Customer                  N   \n",
            "4                   NaN      Mass Customer                  N   \n",
            "\n",
            "           default owns_car  tenure  \n",
            "0              NaN       No    20.0  \n",
            "1    ï½ï½¨(Â´âï½â©       No     1.0  \n",
            "2              NaN      Yes     1.0  \n",
            "3  ÅâÂ´â°ËÃÂ¨ËÃâââ       No     1.0  \n",
            "4     testâ testâ«      Yes     1.0  \n"
          ]
        }
      ]
    },
    {
      "cell_type": "markdown",
      "source": [
        "**1 ACCURACY**"
      ],
      "metadata": {
        "id": "ItQFe-Yhkfnx"
      }
    },
    {
      "cell_type": "code",
      "source": [
        "accuracy = df['customer_id'].count() == len(df)\n",
        "print(\"Accuracy:\", accuracy)"
      ],
      "metadata": {
        "colab": {
          "base_uri": "https://localhost:8080/"
        },
        "id": "7SKN7e6Ngoa7",
        "outputId": "27067125-a29a-4808-ebc4-e03fa589d399"
      },
      "execution_count": 12,
      "outputs": [
        {
          "output_type": "stream",
          "name": "stdout",
          "text": [
            "Accuracy: True\n"
          ]
        }
      ]
    },
    {
      "cell_type": "markdown",
      "source": [
        "**2 COMPLETENESS**"
      ],
      "metadata": {
        "id": "eKz30H0PkkE4"
      }
    },
    {
      "cell_type": "code",
      "source": [
        "completeness = df.notnull().mean()\n",
        "print(\"Completeness:\")\n",
        "print(completeness)"
      ],
      "metadata": {
        "colab": {
          "base_uri": "https://localhost:8080/"
        },
        "id": "x1ts49p4hBjL",
        "outputId": "c8ae7d0a-56b9-4f1c-aef0-163ea01528f0"
      },
      "execution_count": 13,
      "outputs": [
        {
          "output_type": "stream",
          "name": "stdout",
          "text": [
            "Completeness:\n",
            "customer_id                            1.00000\n",
            "first_name                             1.00000\n",
            "last_name                              0.96875\n",
            "gender                                 1.00000\n",
            "past_3_years_bike_related_purchases    1.00000\n",
            "DOB                                    0.97825\n",
            "job_title                              0.87350\n",
            "job_industry_category                  0.83600\n",
            "wealth_segment                         1.00000\n",
            "deceased_indicator                     1.00000\n",
            "default                                0.92450\n",
            "owns_car                               1.00000\n",
            "tenure                                 0.97825\n",
            "dtype: float64\n"
          ]
        }
      ]
    },
    {
      "cell_type": "markdown",
      "source": [
        "**3 CONSISTENCY**"
      ],
      "metadata": {
        "id": "X77F_P4bkoIj"
      }
    },
    {
      "cell_type": "code",
      "source": [
        "consistency = (df['gender'].isin(['Male', 'Female'])).all() \\\n",
        "              and (df['deceased_indicator'].isin(['Y', 'N'])).all() \\\n",
        "              and (df['owns_car'].isin(['Yes', 'No'])).all()\n",
        "print(\"Consistency:\", consistency)"
      ],
      "metadata": {
        "colab": {
          "base_uri": "https://localhost:8080/"
        },
        "id": "sW3bxCE_iGLT",
        "outputId": "8b744a56-b936-4e05-ab56-cfd2a91399f1"
      },
      "execution_count": 14,
      "outputs": [
        {
          "output_type": "stream",
          "name": "stdout",
          "text": [
            "Consistency: False\n"
          ]
        }
      ]
    },
    {
      "cell_type": "markdown",
      "source": [
        "**4 CURRENCY**"
      ],
      "metadata": {
        "id": "6hJo4zQukr0p"
      }
    },
    {
      "cell_type": "code",
      "source": [
        "currency = (df['DOB'] <= '2021-09-01').all()\n",
        "print(\"Currency:\", currency)"
      ],
      "metadata": {
        "colab": {
          "base_uri": "https://localhost:8080/"
        },
        "id": "6OIeTsLxiRzT",
        "outputId": "96e18395-be9a-43ea-ac95-c9e25c3e87ef"
      },
      "execution_count": 15,
      "outputs": [
        {
          "output_type": "stream",
          "name": "stdout",
          "text": [
            "Currency: False\n"
          ]
        }
      ]
    },
    {
      "cell_type": "markdown",
      "source": [
        "**5 RELEVANCY**"
      ],
      "metadata": {
        "id": "JlHkc6GQkuig"
      }
    },
    {
      "cell_type": "code",
      "source": [
        "df = df.iloc[:, :13]\n",
        "required_columns = ['gender', 'job_industry_category', 'wealth_segment', 'deceased_indicator', 'owns_car', 'customer_id']\n",
        "relevancy = {col: list(df[col].unique()) for col in required_columns}\n",
        "relevancy_check = df[required_columns].apply(lambda x: x.isin(relevancy[x.name])).all()\n",
        "print(\"Relevancy:\")\n",
        "print(relevancy_check)\n",
        "\n"
      ],
      "metadata": {
        "colab": {
          "base_uri": "https://localhost:8080/"
        },
        "id": "mk7phBcRiZM7",
        "outputId": "bb4baf66-f596-47e7-ff86-09c633063d35"
      },
      "execution_count": 19,
      "outputs": [
        {
          "output_type": "stream",
          "name": "stdout",
          "text": [
            "Relevancy:\n",
            "gender                   True\n",
            "job_industry_category    True\n",
            "wealth_segment           True\n",
            "deceased_indicator       True\n",
            "owns_car                 True\n",
            "customer_id              True\n",
            "dtype: bool\n"
          ]
        }
      ]
    },
    {
      "cell_type": "markdown",
      "source": [
        "**6 VALIDITY**"
      ],
      "metadata": {
        "id": "ambr--1Ukxmn"
      }
    },
    {
      "cell_type": "code",
      "source": [
        "df = df.iloc[:, :13]\n",
        "validity = {\n",
        "    'gender': ['Male', 'Female'],\n",
        "    'past_3_years_bike_related_purchases': list(df['past_3_years_bike_related_purchases'].unique()),\n",
        "    'job_title': list(df['job_title'].unique()),\n",
        "    'job_industry_category': ['IT', 'Argiculture', 'Health', 'Manufacturing', 'Retail', 'Telecommunications', 'Financial Services'],\n",
        "    'wealth_segment': ['Affluent Customer', 'Mass Customer', 'High Net Worth'],\n",
        "    'deceased_indicator': ['Y', 'N'],\n",
        "    'default': list(df['default'].unique()),\n",
        "    'owns_car': ['Yes', 'No'],\n",
        "    'tenure': list(df['tenure'].unique()),\n",
        "}\n",
        "validity_check = pd.Series(dtype=bool)\n",
        "for column in df.columns:\n",
        "    if column in validity:\n",
        "        validity_check[column] = df[column].isin(validity[column]).all()\n",
        "\n",
        "print(\"Validity:\")\n",
        "print(validity_check)"
      ],
      "metadata": {
        "colab": {
          "base_uri": "https://localhost:8080/"
        },
        "id": "rAJ85DcZi3fJ",
        "outputId": "05b14fde-248d-45ed-adf8-9540eb1dd476"
      },
      "execution_count": 24,
      "outputs": [
        {
          "output_type": "stream",
          "name": "stdout",
          "text": [
            "Validity:\n",
            "gender                                 False\n",
            "past_3_years_bike_related_purchases     True\n",
            "job_title                               True\n",
            "job_industry_category                  False\n",
            "wealth_segment                          True\n",
            "deceased_indicator                      True\n",
            "default                                 True\n",
            "owns_car                                True\n",
            "tenure                                 False\n",
            "dtype: bool\n"
          ]
        }
      ]
    },
    {
      "cell_type": "markdown",
      "source": [
        "**7 UNIQUENESS**"
      ],
      "metadata": {
        "id": "nfE60Igzk2Nw"
      }
    },
    {
      "cell_type": "code",
      "source": [
        "uniqueness = df.duplicated().any()\n",
        "print(\"Uniqueness:\", not uniqueness)"
      ],
      "metadata": {
        "colab": {
          "base_uri": "https://localhost:8080/"
        },
        "id": "ZvjEBVcFjteT",
        "outputId": "82e845a4-1fd6-4570-acd6-547028738774"
      },
      "execution_count": 25,
      "outputs": [
        {
          "output_type": "stream",
          "name": "stdout",
          "text": [
            "Uniqueness: True\n"
          ]
        }
      ]
    }
  ]
}